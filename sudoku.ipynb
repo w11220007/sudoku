{
 "cells": [
  {
   "cell_type": "code",
   "execution_count": null,
   "id": "48a6bbcd-681a-45db-9248-a346820b40e0",
   "metadata": {},
   "outputs": [],
   "source": [
    "# Discreabe the activity of Sudoku game "
   ]
  },
  {
   "cell_type": "code",
   "execution_count": 1,
   "id": "fc59c38b-6c65-4de6-842f-d31cda3a9bd6",
   "metadata": {},
   "outputs": [],
   "source": [
    "def is_valid(board, row, col, num):\n",
    "    for i in range(9):\n",
    "        if board[row][i] == num or board[i][col] == num:\n",
    "            return False\n",
    "    start_row, start_col = 3 * (row // 3), 3 * (col // 3) \n",
    "    for i in range(3):\n",
    "        for j in range(3):\n",
    "            if board[start_row + i][start_col + j] == num:\n",
    "                return False\n",
    "    return True\n",
    "\n",
    "def solve_sudoku(board):\n",
    "    for row in range(9):\n",
    "        for col in range(9):\n",
    "            if board[row][col] == 0:\n",
    "                for num in range(1, 10):\n",
    "                    if is_valid(board, row, col, num):\n",
    "                        board[row][col] = num\n",
    "                        if solve_sudoku(board):\n",
    "                            return True\n",
    "                        board[row][col] = 0\n",
    "                return False\n",
    "    return True\n"
   ]
  },
  {
   "cell_type": "code",
   "execution_count": 2,
   "id": "92bd07da-ecd3-473c-8581-abe05aaed6bf",
   "metadata": {},
   "outputs": [
    {
     "name": "stdout",
     "output_type": "stream",
     "text": [
      "True\n",
      "[5, 3, 4, 6, 7, 8, 9, 1, 2]\n",
      "[6, 7, 2, 1, 9, 5, 3, 4, 8]\n",
      "[1, 9, 8, 3, 4, 2, 5, 6, 7]\n",
      "[8, 5, 9, 7, 6, 1, 4, 2, 3]\n",
      "[4, 2, 6, 8, 5, 3, 7, 9, 1]\n",
      "[7, 1, 3, 9, 2, 4, 8, 5, 6]\n",
      "[9, 6, 1, 5, 3, 7, 2, 8, 4]\n",
      "[2, 8, 7, 4, 1, 9, 6, 3, 5]\n",
      "[3, 4, 5, 2, 8, 6, 1, 7, 9]\n"
     ]
    }
   ],
   "source": [
    "sudoku_board = [\n",
    "    [5, 3, 0, 0, 7, 0, 0, 0, 0],\n",
    "    [6, 0, 0, 1, 9, 5, 0, 0, 0],\n",
    "    [0, 9, 8, 0, 0, 0, 0, 6, 0],\n",
    "    [8, 0, 0, 0, 6, 0, 0, 0, 3],\n",
    "    [4, 0, 0, 8, 0, 3, 0, 0, 1],\n",
    "    [7, 0, 0, 0, 2, 0, 0, 0, 6],\n",
    "    [0, 6, 0, 0, 0, 0, 2, 8, 0],\n",
    "    [0, 0, 0, 4, 1, 9, 0, 0, 5],\n",
    "    [0, 0, 0, 0, 8, 0, 0, 7, 9]\n",
    "]\n",
    "pass_solved = solve_sudoku(sudoku_board)\n",
    "print(pass_solved)\n",
    "\n",
    "if pass_solved:\n",
    "    for row in sudoku_board:\n",
    "        print(row)\n",
    "else:\n",
    "    print(\"Không tìm thấy lời giải.\")"
   ]
  },
  {
   "cell_type": "code",
   "execution_count": 3,
   "id": "7bd63aef-4fbf-41e4-8b4d-318f422a1bb7",
   "metadata": {},
   "outputs": [
    {
     "name": "stdout",
     "output_type": "stream",
     "text": [
      "True\n",
      "[4, 3, 1, 2, 6, 5, 8, 9, 7]\n",
      "[8, 6, 9, 3, 7, 4, 1, 2, 5]\n",
      "[5, 2, 7, 1, 9, 8, 3, 4, 6]\n",
      "[6, 5, 3, 8, 2, 9, 7, 1, 4]\n",
      "[9, 7, 4, 6, 1, 3, 2, 5, 8]\n",
      "[2, 1, 8, 5, 4, 7, 9, 6, 3]\n",
      "[1, 4, 2, 7, 8, 6, 5, 3, 9]\n",
      "[3, 8, 6, 9, 5, 2, 4, 7, 1]\n",
      "[7, 9, 5, 4, 3, 1, 6, 8, 2]\n"
     ]
    }
   ],
   "source": [
    "sudoku_board = [\n",
    "    [0, 0, 0, 2, 0, 0, 0, 0, 0],\n",
    "    [8, 0, 9, 0, 0, 0, 1, 0, 0],\n",
    "    [0, 2, 0, 0, 0, 0, 0, 0, 0],\n",
    "    [6, 0, 3, 0, 0, 9, 0, 0, 0],\n",
    "    [0, 7, 0, 6, 0, 0, 0, 5, 0],\n",
    "    [0, 0, 0, 0, 4, 0, 9, 0, 3],\n",
    "    [0, 4, 0, 0, 8, 0, 0, 3, 0],\n",
    "    [0, 0, 6, 9, 0, 0, 0, 7, 0],\n",
    "    [0, 9, 5, 0, 0, 1, 0, 0, 2]\n",
    "]\n",
    "pass_solved = solve_sudoku(sudoku_board)\n",
    "print(pass_solved)\n",
    "\n",
    "if pass_solved:\n",
    "    for row in sudoku_board:\n",
    "        print(row)\n",
    "else:\n",
    "    print(\"Không tìm thấy lời giải.\")"
   ]
  },
  {
   "cell_type": "code",
   "execution_count": 4,
   "id": "7db5291b-64a8-4648-828f-0a79f66a508c",
   "metadata": {},
   "outputs": [
    {
     "name": "stdout",
     "output_type": "stream",
     "text": [
      "True\n",
      "[6, 8, 3, 1, 7, 2, 5, 4, 9]\n",
      "[2, 1, 7, 5, 9, 4, 6, 8, 3]\n",
      "[4, 5, 9, 3, 8, 6, 1, 2, 7]\n",
      "[8, 7, 1, 9, 2, 3, 4, 6, 5]\n",
      "[5, 6, 4, 7, 1, 8, 3, 9, 2]\n",
      "[9, 3, 2, 6, 4, 5, 7, 1, 8]\n",
      "[3, 2, 6, 4, 5, 9, 8, 7, 1]\n",
      "[7, 9, 5, 8, 6, 1, 2, 3, 4]\n",
      "[1, 4, 8, 2, 3, 7, 9, 5, 6]\n"
     ]
    }
   ],
   "source": [
    "sudoku_board = [\n",
    "    [6, 0, 0, 0, 0, 2, 5, 0, 0],\n",
    "    [0, 1, 7, 5, 0, 0, 0, 0, 0],\n",
    "    [4, 0, 0, 0, 0, 0, 0, 2, 0],\n",
    "    [0, 7, 0, 0, 2, 3, 0, 6, 0],\n",
    "    [0, 0, 0, 0, 1, 0, 3, 0, 0],\n",
    "    [0, 0, 2, 0, 0, 5, 7, 0, 0],\n",
    "    [0, 0, 0, 4, 0, 0, 0, 0, 0],\n",
    "    [0, 9, 5, 0, 0, 0, 0, 3, 0],\n",
    "    [1, 0, 8, 0, 0, 0, 9, 0, 0]\n",
    "]\n",
    "pass_solved = solve_sudoku(sudoku_board)\n",
    "print(pass_solved)\n",
    "if pass_solved:\n",
    "    for row in sudoku_board:\n",
    "        print(row)\n",
    "else:\n",
    "    print(\"Không tìm thấy lời giải.\")\n"
   ]
  },
  {
   "cell_type": "code",
   "execution_count": null,
   "id": "ca7df723-dc07-4f93-8835-416dc13a9295",
   "metadata": {},
   "outputs": [],
   "source": []
  }
 ],
 "metadata": {
  "kernelspec": {
   "display_name": "Python 3 (ipykernel)",
   "language": "python",
   "name": "python3"
  },
  "language_info": {
   "codemirror_mode": {
    "name": "ipython",
    "version": 3
   },
   "file_extension": ".py",
   "mimetype": "text/x-python",
   "name": "python",
   "nbconvert_exporter": "python",
   "pygments_lexer": "ipython3",
   "version": "3.12.1"
  }
 },
 "nbformat": 4,
 "nbformat_minor": 5
}

